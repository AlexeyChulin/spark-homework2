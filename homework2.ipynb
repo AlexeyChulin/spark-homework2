{
 "cells": [
  {
   "cell_type": "markdown",
   "id": "430ec4dd",
   "metadata": {},
   "source": [
    "# Домашнее задание 2\n",
    "\n",
    "Условие: дана таблица с колонками (id, name, salary, managerid). Необходимо написать код на spark, который создает эту таблицу (данные указаны ниже) и в результате выдаст таблицу, в которой будут имена сотрудников, которые зарабатывают больше своих менеджеров"
   ]
  },
  {
   "cell_type": "code",
   "execution_count": 1,
   "id": "84fd0b4e",
   "metadata": {},
   "outputs": [],
   "source": [
    "import pyspark\n",
    "from pyspark import SparkContext\n",
    "from pyspark.sql import SparkSession\n",
    "import pandas as pd"
   ]
  },
  {
   "cell_type": "markdown",
   "id": "5337e712",
   "metadata": {},
   "source": [
    "## Исходные данные:"
   ]
  },
  {
   "cell_type": "code",
   "execution_count": 2,
   "id": "286b0bd1",
   "metadata": {},
   "outputs": [
    {
     "data": {
      "text/html": [
       "<div>\n",
       "<style scoped>\n",
       "    .dataframe tbody tr th:only-of-type {\n",
       "        vertical-align: middle;\n",
       "    }\n",
       "\n",
       "    .dataframe tbody tr th {\n",
       "        vertical-align: top;\n",
       "    }\n",
       "\n",
       "    .dataframe thead th {\n",
       "        text-align: right;\n",
       "    }\n",
       "</style>\n",
       "<table border=\"1\" class=\"dataframe\">\n",
       "  <thead>\n",
       "    <tr style=\"text-align: right;\">\n",
       "      <th></th>\n",
       "      <th>id</th>\n",
       "      <th>Name</th>\n",
       "      <th>Salary</th>\n",
       "      <th>ManagerId</th>\n",
       "    </tr>\n",
       "  </thead>\n",
       "  <tbody>\n",
       "    <tr>\n",
       "      <th>0</th>\n",
       "      <td>1</td>\n",
       "      <td>Joe</td>\n",
       "      <td>70</td>\n",
       "      <td>3</td>\n",
       "    </tr>\n",
       "    <tr>\n",
       "      <th>1</th>\n",
       "      <td>2</td>\n",
       "      <td>Henry</td>\n",
       "      <td>80</td>\n",
       "      <td>4</td>\n",
       "    </tr>\n",
       "    <tr>\n",
       "      <th>2</th>\n",
       "      <td>3</td>\n",
       "      <td>Sam</td>\n",
       "      <td>60</td>\n",
       "      <td>Null</td>\n",
       "    </tr>\n",
       "    <tr>\n",
       "      <th>3</th>\n",
       "      <td>4</td>\n",
       "      <td>Max</td>\n",
       "      <td>90</td>\n",
       "      <td>Null</td>\n",
       "    </tr>\n",
       "  </tbody>\n",
       "</table>\n",
       "</div>"
      ],
      "text/plain": [
       "   id   Name Salary ManagerId\n",
       "0   1    Joe     70         3\n",
       "1   2  Henry     80         4\n",
       "2   3    Sam     60      Null\n",
       "3   4    Max     90      Null"
      ]
     },
     "execution_count": 2,
     "metadata": {},
     "output_type": "execute_result"
    }
   ],
   "source": [
    "data = {'id': [1,2,3,4],\n",
    "        'Name': ['Joe', 'Henry', 'Sam', 'Max'],\n",
    "        'Salary': ['70', '80', '60', '90'],\n",
    "        'ManagerId': ['3', '4', 'Null', 'Null']}\n",
    "df_pd = pd.DataFrame(data)\n",
    "df_pd"
   ]
  },
  {
   "cell_type": "markdown",
   "id": "41030f90",
   "metadata": {},
   "source": [
    "## Создаем DataFrame:"
   ]
  },
  {
   "cell_type": "code",
   "execution_count": 3,
   "id": "0e72b255",
   "metadata": {},
   "outputs": [
    {
     "name": "stderr",
     "output_type": "stream",
     "text": [
      "24/04/09 17:40:59 WARN Utils: Your hostname, alexey-Aspire-A315-42 resolves to a loopback address: 127.0.1.1; using 192.168.60.84 instead (on interface wlp4s0)\n",
      "24/04/09 17:40:59 WARN Utils: Set SPARK_LOCAL_IP if you need to bind to another address\n",
      "WARNING: An illegal reflective access operation has occurred\n",
      "WARNING: Illegal reflective access by org.apache.spark.unsafe.Platform (file:/home/alexey/.local/lib/python3.8/site-packages/pyspark/jars/spark-unsafe_2.12-3.2.4.jar) to constructor java.nio.DirectByteBuffer(long,int)\n",
      "WARNING: Please consider reporting this to the maintainers of org.apache.spark.unsafe.Platform\n",
      "WARNING: Use --illegal-access=warn to enable warnings of further illegal reflective access operations\n",
      "WARNING: All illegal access operations will be denied in a future release\n",
      "Using Spark's default log4j profile: org/apache/spark/log4j-defaults.properties\n",
      "Setting default log level to \"WARN\".\n",
      "To adjust logging level use sc.setLogLevel(newLevel). For SparkR, use setLogLevel(newLevel).\n",
      "24/04/09 17:40:59 WARN NativeCodeLoader: Unable to load native-hadoop library for your platform... using builtin-java classes where applicable\n",
      "24/04/09 17:41:00 WARN Utils: Service 'SparkUI' could not bind on port 4040. Attempting port 4041.\n",
      "/home/alexey/.local/lib/python3.8/site-packages/pyspark/sql/pandas/conversion.py:371: FutureWarning: iteritems is deprecated and will be removed in a future version. Use .items instead.\n",
      "  for column, series in pdf.iteritems():\n",
      "                                                                                \r"
     ]
    },
    {
     "name": "stdout",
     "output_type": "stream",
     "text": [
      "+---+-----+------+---------+\n",
      "| id| Name|Salary|ManagerId|\n",
      "+---+-----+------+---------+\n",
      "|  1|  Joe|    70|        3|\n",
      "|  2|Henry|    80|        4|\n",
      "|  3|  Sam|    60|     Null|\n",
      "|  4|  Max|    90|     Null|\n",
      "+---+-----+------+---------+\n",
      "\n"
     ]
    }
   ],
   "source": [
    "spark = SparkSession.builder.appName('Homework2').getOrCreate()\n",
    "\n",
    "df = spark.createDataFrame(df_pd)\n",
    "df.show()"
   ]
  },
  {
   "cell_type": "markdown",
   "id": "0398c647",
   "metadata": {},
   "source": [
    "## Создаем вспомогательный датафрейм и соединяем:"
   ]
  },
  {
   "cell_type": "code",
   "execution_count": 4,
   "id": "52ed32df",
   "metadata": {},
   "outputs": [
    {
     "name": "stdout",
     "output_type": "stream",
     "text": [
      "+----------+--------------+\n",
      "|manager_id|manager_salary|\n",
      "+----------+--------------+\n",
      "|         1|            70|\n",
      "|         2|            80|\n",
      "|         3|            60|\n",
      "|         4|            90|\n",
      "+----------+--------------+\n",
      "\n"
     ]
    }
   ],
   "source": [
    "managers_df = df.select('id', 'Salary').withColumnRenamed('id', 'manager_id').withColumnRenamed('Salary', 'manager_salary')\n",
    "managers_df.show()"
   ]
  },
  {
   "cell_type": "code",
   "execution_count": 5,
   "id": "f0aa4398",
   "metadata": {},
   "outputs": [
    {
     "name": "stdout",
     "output_type": "stream",
     "text": [
      "+---+-----+------+---------+----------+--------------+\n",
      "| id| Name|Salary|ManagerId|manager_id|manager_salary|\n",
      "+---+-----+------+---------+----------+--------------+\n",
      "|  1|  Joe|    70|        3|         3|            60|\n",
      "|  2|Henry|    80|        4|         4|            90|\n",
      "+---+-----+------+---------+----------+--------------+\n",
      "\n"
     ]
    }
   ],
   "source": [
    "joined = df.join(managers_df, df['ManagerId'] == managers_df['manager_id'], 'inner')\n",
    "joined.show()"
   ]
  },
  {
   "cell_type": "markdown",
   "id": "ff325bf2",
   "metadata": {},
   "source": [
    "## Фильтруем по условию и выводим результат:"
   ]
  },
  {
   "cell_type": "code",
   "execution_count": 6,
   "id": "572f7ca3",
   "metadata": {},
   "outputs": [
    {
     "name": "stdout",
     "output_type": "stream",
     "text": [
      "+----+\n",
      "|Name|\n",
      "+----+\n",
      "| Joe|\n",
      "+----+\n",
      "\n"
     ]
    }
   ],
   "source": [
    "joined.filter(joined['Salary'] > joined['manager_salary']).select(joined.Name).show()"
   ]
  }
 ],
 "metadata": {
  "kernelspec": {
   "display_name": "Python 3 (ipykernel)",
   "language": "python",
   "name": "python3"
  },
  "language_info": {
   "codemirror_mode": {
    "name": "ipython",
    "version": 3
   },
   "file_extension": ".py",
   "mimetype": "text/x-python",
   "name": "python",
   "nbconvert_exporter": "python",
   "pygments_lexer": "ipython3",
   "version": "3.8.10"
  }
 },
 "nbformat": 4,
 "nbformat_minor": 5
}
